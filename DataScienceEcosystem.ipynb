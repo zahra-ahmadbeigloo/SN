{
 "cells": [
  {
   "cell_type": "markdown",
   "id": "90c18c58-a49e-4bf7-ba70-5e14a2d168b3",
   "metadata": {},
   "source": [
    "# Data Science Tools and Ecosystem"
   ]
  },
  {
   "cell_type": "markdown",
   "id": "3640d841-e2d0-4949-9593-01d70c067189",
   "metadata": {},
   "source": [
    "In this notebook, Data Science Tools and Ecosystem are summarized."
   ]
  },
  {
   "cell_type": "markdown",
   "id": "4ca1bfce-e07b-44b9-ab6f-d6fd43ff4a9a",
   "metadata": {},
   "source": [
    "__Objectives:__\n",
    "+ Popular Programming Languages\n",
    "+ Libraries Used by Data Scientists\n",
    "+ Data Science Tools"
   ]
  },
  {
   "cell_type": "markdown",
   "id": "94b728ed-a52d-44cf-8a12-74934a4c7cc4",
   "metadata": {},
   "source": [
    "#### Some of the popular languages that Data Scientists use are:\n",
    "1. Python\n",
    "2. R\n",
    "3. SQL"
   ]
  },
  {
   "cell_type": "markdown",
   "id": "f3874fc0-c202-4846-b0ea-ee48be2e7834",
   "metadata": {},
   "source": [
    "#### Some of the commonly used libraries used by Data Scientists include:\n",
    "1. Numpy\n",
    "2. Scikit Learn\n",
    "3. Pandas\n"
   ]
  },
  {
   "cell_type": "markdown",
   "id": "a1aca057-2172-4305-a1f6-b97a39628520",
   "metadata": {},
   "source": [
    "|Data Science Tools|\n",
    "|-|\n",
    "|Jupyterlite|\n",
    "|Watson studio|\n",
    "|Github|\n"
   ]
  },
  {
   "cell_type": "markdown",
   "id": "673e9f75-43e3-4819-aada-62c2fb3c6877",
   "metadata": {},
   "source": [
    "### Below are a few examples of evaluating arithmetic expressions in Python\n"
   ]
  },
  {
   "cell_type": "code",
   "execution_count": 19,
   "id": "be50b14c-d42d-438d-be1e-ad3b0a87092f",
   "metadata": {},
   "outputs": [
    {
     "data": {
      "text/plain": [
       "17"
      ]
     },
     "execution_count": 19,
     "metadata": {},
     "output_type": "execute_result"
    }
   ],
   "source": [
    "# This a simple arithmetic expression to mutiply then add integers\n",
    "(3*4)+5"
   ]
  },
  {
   "cell_type": "code",
   "execution_count": 23,
   "id": "c538e6d2-eb7a-4147-aeb2-0ea0e8015c6d",
   "metadata": {},
   "outputs": [
    {
     "name": "stdout",
     "output_type": "stream",
     "text": [
      "3.3333333333333335\n"
     ]
    }
   ],
   "source": [
    "# This will convert 200 minutes to hours by diving by 60\n",
    "m = 200\n",
    "hour = m/60\n",
    "print(hour)"
   ]
  },
  {
   "cell_type": "markdown",
   "id": "11bc33d5-97c4-44c4-a607-2fbade89f7fc",
   "metadata": {},
   "source": [
    "## Author\n",
    "Zahra Ahmadbeigloo"
   ]
  },
  {
   "cell_type": "code",
   "execution_count": null,
   "id": "036010a4-5615-47f5-a9da-fb2dec205216",
   "metadata": {},
   "outputs": [],
   "source": []
  },
  {
   "cell_type": "code",
   "execution_count": null,
   "id": "035e0c9d-c3b0-4b8a-81f1-4b7e27b4f882",
   "metadata": {},
   "outputs": [],
   "source": []
  }
 ],
 "metadata": {
  "kernelspec": {
   "display_name": "Python 3 (ipykernel)",
   "language": "python",
   "name": "python3"
  },
  "language_info": {
   "codemirror_mode": {
    "name": "ipython",
    "version": 3
   },
   "file_extension": ".py",
   "mimetype": "text/x-python",
   "name": "python",
   "nbconvert_exporter": "python",
   "pygments_lexer": "ipython3",
   "version": "3.12.4"
  }
 },
 "nbformat": 4,
 "nbformat_minor": 5
}
